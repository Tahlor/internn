{
  "nbformat": 4,
  "nbformat_minor": 0,
  "metadata": {
    "colab": {
      "name": "CharBERTV3_BASE",
      "provenance": [],
      "collapsed_sections": []
    },
    "kernelspec": {
      "display_name": "Python 3",
      "name": "python3"
    },
    "language_info": {
      "name": "python"
    },
    "accelerator": "GPU"
  },
  "cells": [
    {
      "cell_type": "code",
      "metadata": {
        "colab": {
          "base_uri": "https://localhost:8080/"
        },
        "id": "DjvICAYl9APR",
        "outputId": "5f9c0928-b315-42da-8616-e8f08fbd0dab"
      },
      "source": [
        "!pip install git+https://github.com/huggingface/transformers"
      ],
      "execution_count": null,
      "outputs": [
        {
          "output_type": "stream",
          "text": [
            "Collecting git+https://github.com/huggingface/transformers\n",
            "  Cloning https://github.com/huggingface/transformers to /tmp/pip-req-build-38bq9crb\n",
            "  Running command git clone -q https://github.com/huggingface/transformers /tmp/pip-req-build-38bq9crb\n",
            "  Installing build dependencies ... \u001b[?25l\u001b[?25hdone\n",
            "  Getting requirements to build wheel ... \u001b[?25l\u001b[?25hdone\n",
            "    Preparing wheel metadata ... \u001b[?25l\u001b[?25hdone\n",
            "Requirement already satisfied: pyyaml in /usr/local/lib/python3.7/dist-packages (from transformers==4.8.0.dev0) (3.13)\n",
            "Collecting huggingface-hub==0.0.8\n",
            "  Downloading https://files.pythonhosted.org/packages/a1/88/7b1e45720ecf59c6c6737ff332f41c955963090a18e72acbcbeac6b25e86/huggingface_hub-0.0.8-py3-none-any.whl\n",
            "Collecting tokenizers<0.11,>=0.10.1\n",
            "\u001b[?25l  Downloading https://files.pythonhosted.org/packages/d4/e2/df3543e8ffdab68f5acc73f613de9c2b155ac47f162e725dcac87c521c11/tokenizers-0.10.3-cp37-cp37m-manylinux_2_5_x86_64.manylinux1_x86_64.manylinux_2_12_x86_64.manylinux2010_x86_64.whl (3.3MB)\n",
            "\u001b[K     |████████████████████████████████| 3.3MB 10.4MB/s \n",
            "\u001b[?25hRequirement already satisfied: requests in /usr/local/lib/python3.7/dist-packages (from transformers==4.8.0.dev0) (2.23.0)\n",
            "Requirement already satisfied: regex!=2019.12.17 in /usr/local/lib/python3.7/dist-packages (from transformers==4.8.0.dev0) (2019.12.20)\n",
            "Requirement already satisfied: tqdm>=4.27 in /usr/local/lib/python3.7/dist-packages (from transformers==4.8.0.dev0) (4.41.1)\n",
            "Requirement already satisfied: packaging in /usr/local/lib/python3.7/dist-packages (from transformers==4.8.0.dev0) (20.9)\n",
            "Requirement already satisfied: importlib-metadata; python_version < \"3.8\" in /usr/local/lib/python3.7/dist-packages (from transformers==4.8.0.dev0) (4.5.0)\n",
            "Collecting sacremoses\n",
            "\u001b[?25l  Downloading https://files.pythonhosted.org/packages/75/ee/67241dc87f266093c533a2d4d3d69438e57d7a90abb216fa076e7d475d4a/sacremoses-0.0.45-py3-none-any.whl (895kB)\n",
            "\u001b[K     |████████████████████████████████| 901kB 33.9MB/s \n",
            "\u001b[?25hRequirement already satisfied: numpy>=1.17 in /usr/local/lib/python3.7/dist-packages (from transformers==4.8.0.dev0) (1.19.5)\n",
            "Requirement already satisfied: filelock in /usr/local/lib/python3.7/dist-packages (from transformers==4.8.0.dev0) (3.0.12)\n",
            "Requirement already satisfied: idna<3,>=2.5 in /usr/local/lib/python3.7/dist-packages (from requests->transformers==4.8.0.dev0) (2.10)\n",
            "Requirement already satisfied: chardet<4,>=3.0.2 in /usr/local/lib/python3.7/dist-packages (from requests->transformers==4.8.0.dev0) (3.0.4)\n",
            "Requirement already satisfied: certifi>=2017.4.17 in /usr/local/lib/python3.7/dist-packages (from requests->transformers==4.8.0.dev0) (2021.5.30)\n",
            "Requirement already satisfied: urllib3!=1.25.0,!=1.25.1,<1.26,>=1.21.1 in /usr/local/lib/python3.7/dist-packages (from requests->transformers==4.8.0.dev0) (1.24.3)\n",
            "Requirement already satisfied: pyparsing>=2.0.2 in /usr/local/lib/python3.7/dist-packages (from packaging->transformers==4.8.0.dev0) (2.4.7)\n",
            "Requirement already satisfied: typing-extensions>=3.6.4; python_version < \"3.8\" in /usr/local/lib/python3.7/dist-packages (from importlib-metadata; python_version < \"3.8\"->transformers==4.8.0.dev0) (3.7.4.3)\n",
            "Requirement already satisfied: zipp>=0.5 in /usr/local/lib/python3.7/dist-packages (from importlib-metadata; python_version < \"3.8\"->transformers==4.8.0.dev0) (3.4.1)\n",
            "Requirement already satisfied: six in /usr/local/lib/python3.7/dist-packages (from sacremoses->transformers==4.8.0.dev0) (1.15.0)\n",
            "Requirement already satisfied: click in /usr/local/lib/python3.7/dist-packages (from sacremoses->transformers==4.8.0.dev0) (7.1.2)\n",
            "Requirement already satisfied: joblib in /usr/local/lib/python3.7/dist-packages (from sacremoses->transformers==4.8.0.dev0) (1.0.1)\n",
            "Building wheels for collected packages: transformers\n",
            "  Building wheel for transformers (PEP 517) ... \u001b[?25l\u001b[?25hdone\n",
            "  Created wheel for transformers: filename=transformers-4.8.0.dev0-cp37-none-any.whl size=2474626 sha256=b3b2ed32ff4d33dff4c2e4ea3f4294741d168e690ed3d634f7fe0693eb3da364\n",
            "  Stored in directory: /tmp/pip-ephem-wheel-cache-9x47nuho/wheels/70/d3/52/b3fa4f8b8ef04167ac62e5bb2accb62ae764db2a378247490e\n",
            "Successfully built transformers\n",
            "Installing collected packages: huggingface-hub, tokenizers, sacremoses, transformers\n",
            "Successfully installed huggingface-hub-0.0.8 sacremoses-0.0.45 tokenizers-0.10.3 transformers-4.8.0.dev0\n"
          ],
          "name": "stdout"
        }
      ]
    },
    {
      "cell_type": "code",
      "metadata": {
        "colab": {
          "base_uri": "https://localhost:8080/"
        },
        "id": "saydwG9U9jCF",
        "outputId": "e6aef971-a677-4678-c2b8-d1c6cb41a9cf"
      },
      "source": [
        "from google.colab import drive\n",
        "drive.mount('/content/drive')\n",
        "import os \n",
        "os.chdir(\"/content/drive/My Drive/internn/data\")"
      ],
      "execution_count": null,
      "outputs": [
        {
          "output_type": "stream",
          "text": [
            "Mounted at /content/drive\n"
          ],
          "name": "stdout"
        }
      ]
    },
    {
      "cell_type": "code",
      "metadata": {
        "id": "NKbsPAsDPUYg"
      },
      "source": [
        "from sen_loader import *"
      ],
      "execution_count": null,
      "outputs": []
    },
    {
      "cell_type": "code",
      "metadata": {
        "id": "oR5Zl4DX9RU0"
      },
      "source": [
        "from transformers import BertPreTrainedModel\n",
        "from transformers.models.bert.modeling_bert import *\n",
        "\n",
        "class BertModelCustom(BertPreTrainedModel):\n",
        "\n",
        "    def __init__(self, config, add_pooling_layer=True):\n",
        "        super().__init__(config)\n",
        "        self.config = config\n",
        "\n",
        "        self.embeddings = CustomBertEmbeddings(config)\n",
        "        self.encoder = BertEncoder(config)\n",
        "\n",
        "        self.pooler = BertPooler(config) if add_pooling_layer else None\n",
        "\n",
        "        self.init_weights()\n",
        "        \n",
        "        self.lin2 = nn.Linear(768, config.vocab_size-2)\n",
        "        self.cls = BertOnlyMLMHead(config)\n",
        "\n",
        "    def get_input_embeddings(self):\n",
        "        return self.embeddings.word_embeddings\n",
        "\n",
        "    def set_input_embeddings(self, value):\n",
        "        self.embeddings.word_embeddings = value\n",
        "\n",
        "    def _prune_heads(self, heads_to_prune):\n",
        "        \"\"\"\n",
        "        Prunes heads of the model. heads_to_prune: dict of {layer_num: list of heads to prune in this layer} See base\n",
        "        class PreTrainedModel\n",
        "        \"\"\"\n",
        "        for layer, heads in heads_to_prune.items():\n",
        "            self.encoder.layer[layer].attention.prune_heads(heads)\n",
        "\n",
        "    def forward(\n",
        "        self,\n",
        "        input_ids=None,\n",
        "        attention_mask=None,\n",
        "        token_type_ids=None,\n",
        "        position_ids=None,\n",
        "        head_mask=None,\n",
        "        inputs_embeds=None,\n",
        "        encoder_hidden_states=None,\n",
        "        encoder_attention_mask=None,\n",
        "        past_key_values=None,\n",
        "        use_cache=None,\n",
        "        output_attentions=None,\n",
        "        output_hidden_states=None,\n",
        "        return_dict=None,\n",
        "    ):\n",
        "\n",
        "        output_attentions = output_attentions if output_attentions is not None else self.config.output_attentions\n",
        "        output_hidden_states = (\n",
        "            output_hidden_states if output_hidden_states is not None else self.config.output_hidden_states\n",
        "        )\n",
        "        return_dict = return_dict if return_dict is not None else self.config.use_return_dict\n",
        "\n",
        "        if self.config.is_decoder:\n",
        "            use_cache = use_cache if use_cache is not None else self.config.use_cache\n",
        "        else:\n",
        "            use_cache = False\n",
        "\n",
        "        if input_ids is not None and inputs_embeds is not None:\n",
        "            raise ValueError(\"You cannot specify both input_ids and inputs_embeds at the same time\")\n",
        "        elif input_ids is not None:\n",
        "            input_shape = input_ids.size()\n",
        "            batch_size, seq_length = input_shape\n",
        "        elif inputs_embeds is not None:\n",
        "            input_shape = inputs_embeds.size()[:-1]\n",
        "            batch_size, seq_length = input_shape\n",
        "        else:\n",
        "            raise ValueError(\"You have to specify either input_ids or inputs_embeds\")\n",
        "\n",
        "        device = input_ids.device if input_ids is not None else inputs_embeds.device\n",
        "\n",
        "        # past_key_values_length\n",
        "        past_key_values_length = past_key_values[0][0].shape[2] if past_key_values is not None else 0\n",
        "\n",
        "        if attention_mask is None:\n",
        "            attention_mask = torch.ones(((batch_size, seq_length + past_key_values_length)), device=device)\n",
        "        if token_type_ids is None:\n",
        "            token_type_ids = torch.zeros(input_shape, dtype=torch.long, device=device)\n",
        "\n",
        "        # We can provide a self-attention mask of dimensions [batch_size, from_seq_length, to_seq_length]\n",
        "        # ourselves in which case we just need to make it broadcastable to all heads.\n",
        "        extended_attention_mask: torch.Tensor = self.get_extended_attention_mask(attention_mask, input_shape, device)\n",
        "\n",
        "        # If a 2D or 3D attention mask is provided for the cross-attention\n",
        "        # we need to make broadcastable to [batch_size, num_heads, seq_length, seq_length]\n",
        "        if self.config.is_decoder and encoder_hidden_states is not None:\n",
        "            encoder_batch_size, encoder_sequence_length, _ = encoder_hidden_states.size()\n",
        "            encoder_hidden_shape = (encoder_batch_size, encoder_sequence_length)\n",
        "            if encoder_attention_mask is None:\n",
        "                encoder_attention_mask = torch.ones(encoder_hidden_shape, device=device)\n",
        "            encoder_extended_attention_mask = self.invert_attention_mask(encoder_attention_mask)\n",
        "        else:\n",
        "            encoder_extended_attention_mask = None\n",
        "\n",
        "        # Prepare head mask if needed\n",
        "        # 1.0 in head_mask indicate we keep the head\n",
        "        # attention_probs has shape bsz x n_heads x N x N\n",
        "        # input head_mask has shape [num_heads] or [num_hidden_layers x num_heads]\n",
        "        # and head_mask is converted to shape [num_hidden_layers x batch x num_heads x seq_length x seq_length]\n",
        "        head_mask = self.get_head_mask(head_mask, self.config.num_hidden_layers)\n",
        "\n",
        "\n",
        "        embedding_output = self.embeddings(\n",
        "            input_ids=input_ids,\n",
        "            position_ids=position_ids,\n",
        "            token_type_ids=token_type_ids,\n",
        "            inputs_embeds=inputs_embeds,\n",
        "            past_key_values_length=past_key_values_length,\n",
        "        )\n",
        "\n",
        "        encoder_outputs = self.encoder(\n",
        "            embedding_output,\n",
        "            attention_mask=extended_attention_mask,\n",
        "            head_mask=head_mask,\n",
        "            encoder_hidden_states=encoder_hidden_states,\n",
        "            encoder_attention_mask=encoder_extended_attention_mask,\n",
        "            past_key_values=past_key_values,\n",
        "            use_cache=use_cache,\n",
        "            output_attentions=output_attentions,\n",
        "            output_hidden_states=output_hidden_states,\n",
        "            return_dict=return_dict,\n",
        "        )\n",
        "        sequence_output = encoder_outputs[0]\n",
        "        # pooled_output = self.pooler(sequence_output) if self.pooler is not None else None\n",
        "        \n",
        "        prediction_scores = self.cls(sequence_output)\n",
        "        output = self.lin2(sequence_output)\n",
        "        return output, prediction_scores\n",
        "\n",
        "        # if not return_dict:\n",
        "        #     return (sequence_output, pooled_output) + encoder_outputs[1:]\n",
        "\n",
        "        # return BaseModelOutputWithPoolingAndCrossAttentions(\n",
        "        #     last_hidden_state=sequence_output,\n",
        "        #     pooler_output=pooled_output,\n",
        "        #     past_key_values=encoder_outputs.past_key_values,\n",
        "        #     hidden_states=encoder_outputs.hidden_states,\n",
        "        #     attentions=encoder_outputs.attentions,\n",
        "        #     cross_attentions=encoder_outputs.cross_attentions,\n",
        "        # )\n",
        "\n",
        "\n",
        "\n",
        "\n",
        "class CustomBertEmbeddings(nn.Module):\n",
        "    \"\"\"Construct the embeddings from word, position and token_type embeddings.\"\"\"\n",
        "\n",
        "    def __init__(self, config):\n",
        "        super().__init__()\n",
        "\n",
        "        self.word_embeddings = nn.Embedding(config.vocab_size, config.hidden_size, padding_idx=config.pad_token_id)\n",
        "        self.position_embeddings = nn.Embedding(config.max_position_embeddings, config.hidden_size)\n",
        "        self.token_type_embeddings = nn.Embedding(config.type_vocab_size, config.hidden_size)\n",
        "\n",
        "        # self.LayerNorm is not snake-cased to stick with TensorFlow model variable name and be able to load\n",
        "        # any TensorFlow checkpoint file\n",
        "        self.LayerNorm = nn.LayerNorm(config.hidden_size, eps=config.layer_norm_eps)\n",
        "        self.dropout = nn.Dropout(config.hidden_dropout_prob)\n",
        "\n",
        "        # position_ids (1, len position emb) is contiguous in memory and exported when serialized\n",
        "        self.register_buffer(\"position_ids\", torch.arange(config.max_position_embeddings).expand((1, -1)))\n",
        "        self.position_embedding_type = getattr(config, \"position_embedding_type\", \"absolute\")\n",
        "\n",
        "    def forward(\n",
        "        self, input_ids=None, token_type_ids=None, position_ids=None, inputs_embeds=None, past_key_values_length=0\n",
        "    ):\n",
        "        if input_ids is not None:\n",
        "            input_shape = input_ids.size()\n",
        "        else:\n",
        "            input_shape = inputs_embeds.size()[:-1]\n",
        "\n",
        "        seq_length = input_shape[1]\n",
        "\n",
        "        \n",
        "        if position_ids is None:\n",
        "            position_ids = self.position_ids[:, past_key_values_length : seq_length + past_key_values_length]\n",
        "            # print(position_ids.shape)\n",
        "            # print(position_ids)\n",
        "        \n",
        "        if token_type_ids is None:\n",
        "            token_type_ids = torch.zeros(input_shape, dtype=torch.long, device=self.position_ids.device)\n",
        "\n",
        "        if inputs_embeds is None:\n",
        "            inputs_embeds = self.word_embeddings(input_ids)\n",
        "\n",
        "        token_type_embeddings = self.token_type_embeddings(token_type_ids)\n",
        "\n",
        "        \n",
        "        embeddings = inputs_embeds + token_type_embeddings\n",
        "        if self.position_embedding_type == \"absolute\":\n",
        "            position_embeddings = self.position_embeddings(position_ids)\n",
        "            embeddings += position_embeddings\n",
        "        embeddings = self.LayerNorm(embeddings)\n",
        "        embeddings = self.dropout(embeddings)\n",
        "\n",
        "        \n",
        "        return embeddings"
      ],
      "execution_count": null,
      "outputs": []
    },
    {
      "cell_type": "code",
      "metadata": {
        "id": "bmf5_nV4mj7L"
      },
      "source": [
        "text = 'abcdefghi jklmnopqrstuvwxyz'\n",
        "corpus = [char for char in text]\n",
        "mask_id = len(corpus) + 1\n",
        "vocab_size = mask_id + 2"
      ],
      "execution_count": null,
      "outputs": []
    },
    {
      "cell_type": "code",
      "metadata": {
        "id": "3lcqaXL89D5U"
      },
      "source": [
        "train_dataset = SentenceDataset(PATH='./data/train_test_sentenceDataset.pt', which='Embeddings')\n",
        "train_loader = torch.utils.data.DataLoader(train_dataset, batch_size=1, shuffle=True)\n",
        "\n",
        "test_dataset = SentenceDataset(PATH='./data/train_test_sentenceDataset.pt', which='Embeddings', train=False)\n",
        "test_loader = torch.utils.data.DataLoader(train_dataset, batch_size=1, shuffle=True)"
      ],
      "execution_count": null,
      "outputs": []
    },
    {
      "cell_type": "code",
      "metadata": {
        "id": "fWlB4l5n-IwZ"
      },
      "source": [
        "def num_to_letter(num):\n",
        "    x = chr(num + 96)\n",
        "    \n",
        "    if x == '`':\n",
        "        x = \" \"\n",
        "    return x\n",
        "\n",
        "def get_text(tnsr):\n",
        "  text = ''\n",
        "  for value in tnsr:\n",
        "    c = num_to_letter(value.item())\n",
        "    text = text + c\n",
        "  return text"
      ],
      "execution_count": null,
      "outputs": []
    },
    {
      "cell_type": "code",
      "metadata": {
        "colab": {
          "base_uri": "https://localhost:8080/"
        },
        "id": "1bYOWIep-NZn",
        "outputId": "3e623e63-a453-4f67-8b54-a3a38859c258"
      },
      "source": [
        "sample = next(iter(train_dataset))\n",
        "print(\"Batch Data Shape = \", sample[0].squeeze(0).shape)\n",
        "print(\"Num Batch Labels = \", sample[1].squeeze(0).shape)\n",
        "print(\"Output shape: \", sample[2].shape)\n",
        "print(\"Sen Lengths: \", sample[3])"
      ],
      "execution_count": null,
      "outputs": [
        {
          "output_type": "stream",
          "text": [
            "Batch Data Shape =  torch.Size([31, 512])\n",
            "Num Batch Labels =  torch.Size([31])\n",
            "Output shape:  torch.Size([31, 27])\n",
            "Sen Lengths:  31\n"
          ],
          "name": "stdout"
        }
      ]
    },
    {
      "cell_type": "code",
      "metadata": {
        "colab": {
          "base_uri": "https://localhost:8080/"
        },
        "id": "bFJ0kSJL-vll",
        "outputId": "fb48984b-3f9f-4dae-88f0-889d5921339b"
      },
      "source": [
        "print(get_text(sample[1]))"
      ],
      "execution_count": null,
      "outputs": [
        {
          "output_type": "stream",
          "text": [
            "the project gutenberg ebook of \n"
          ],
          "name": "stdout"
        }
      ]
    },
    {
      "cell_type": "code",
      "metadata": {
        "id": "u6488U9-9VXN"
      },
      "source": [
        "import copy\n",
        "import numpy as np\n",
        "\n",
        "def get_inputs(text, mask_index = None):\n",
        "  n = len(text)\n",
        "  if not mask_index:\n",
        "    mask_index = np.random.randint(0,n)\n",
        "  \n",
        "  ids = []\n",
        "  for char in text:\n",
        "    ids.append(corpus.index(char))\n",
        "  input_ids = torch.tensor(ids).unsqueeze(0)\n",
        "  attention_mask = [1] * n\n",
        "  attention_mask[mask_index] = 0\n",
        "  attention_mask = torch.tensor(attention_mask).unsqueeze(0)\n",
        "\n",
        "  labels = copy.deepcopy(input_ids)\n",
        "  input_ids[0][mask_index] = mask_id\n",
        "  labels[input_ids != mask_id] = -100 \n",
        "  labels = labels.type(torch.LongTensor)\n",
        "\n",
        "\n",
        "  return input_ids, attention_mask, labels, mask_index\n"
      ],
      "execution_count": null,
      "outputs": []
    },
    {
      "cell_type": "code",
      "metadata": {
        "id": "_ba96gBzuBIV"
      },
      "source": [
        "model = BertModelCustom(BertConfig(vocab_size=vocab_size + 2))\n",
        "input_ids, attention_mask, labels = get_inputs(\"my name is sam\")\n",
        "output = model(input_ids, attention_mask)"
      ],
      "execution_count": null,
      "outputs": []
    },
    {
      "cell_type": "code",
      "metadata": {
        "id": "-yY0ZT6z9tKc"
      },
      "source": [
        "import torch.optim as optim\n",
        "import copy\n",
        "import numpy as np\n",
        "from torch.optim.lr_scheduler import StepLR, ReduceLROnPlateau\n",
        "\n",
        "epochs = 5\n",
        "lr =  5e-5\n",
        "losses = []\n",
        "losses_10 = []\n",
        "vocab_size = 27\n",
        "device = torch.device('cuda:0')\n",
        "\n",
        "model = BertModelCustom(BertConfig(vocab_size=vocab_size+2)).to(device)\n",
        "\n",
        "objective = nn.CrossEntropyLoss()\n",
        "optimizer = optim.Adam(model.parameters(), lr=lr, weight_decay=1e-1)\n",
        "\n",
        "prev_input = None\n",
        "cur_input = None\n",
        "prev_loss = 100\n",
        "cur_loss = 100\n",
        "prev_output = None\n",
        "cur_output = None\n",
        "val_loss = []\n",
        "\n",
        "for epoch in range(epochs):\n",
        "  count = 0\n",
        "  for i_batch, sample in enumerate(train_loader):\n",
        "    x, y_truth = sample[0].to(device), sample[1].to(device)\n",
        "    text = get_text(y_truth.squeeze(0))\n",
        "    input_ids, attention_mask, y_truth, index = get_inputs(text)\n",
        "\n",
        "    input_ids = input_ids.to(device)\n",
        "    attention_mask = attention_mask.to(device)\n",
        "\n",
        "    optimizer.zero_grad()\n",
        "    output, y_hat = model(input_ids, attention_mask)\n",
        "\n",
        "    loss = objective(output.view(-1, vocab_size), y_truth.squeeze(0).to(device))\n",
        "    \n",
        "    loss.backward()\n",
        "    losses_10.append(loss.item())\n",
        "    optimizer.step()\n",
        "\n",
        "    count = count + 1\n",
        "\n",
        "    if count % 1000 == 0:\n",
        "      losses.append(np.average(losses_10))\n",
        "      losses_10 = []\n"
      ],
      "execution_count": null,
      "outputs": []
    },
    {
      "cell_type": "code",
      "metadata": {
        "colab": {
          "base_uri": "https://localhost:8080/",
          "height": 282
        },
        "id": "EtP61zJS7hbg",
        "outputId": "97e099da-8b2f-4f7e-c2c1-671ec546d3b9"
      },
      "source": [
        "import matplotlib.pyplot as plt\n",
        "plt.plot(losses)"
      ],
      "execution_count": null,
      "outputs": [
        {
          "output_type": "execute_result",
          "data": {
            "text/plain": [
              "[<matplotlib.lines.Line2D at 0x7f5c5834e410>]"
            ]
          },
          "metadata": {
            "tags": []
          },
          "execution_count": 36
        },
        {
          "output_type": "display_data",
          "data": {
            "image/png": "[encoded data removed]",
            "text/plain": [
              "<Figure size 432x288 with 1 Axes>"
            ]
          },
          "metadata": {
            "tags": [],
            "needs_background": "light"
          }
        }
      ]
    },
    {
      "cell_type": "code",
      "metadata": {
        "colab": {
          "base_uri": "https://localhost:8080/"
        },
        "id": "v6Xs7IJkm_J5",
        "outputId": "74b880b9-c65a-4550-da9c-7c5b418f1430"
      },
      "source": [
        "total = 0\n",
        "correct = 0\n",
        "for i_batch, sample in enumerate(train_loader):\n",
        "  x, y_truth = sample[0].to(device), sample[1].to(device)\n",
        " \n",
        "\n",
        "  text = get_text(y_truth.squeeze(0))\n",
        "  input_ids, attention_mask, y_truth, index = get_inputs(text)\n",
        "\n",
        "  input_ids = input_ids.to(device)\n",
        "  attention_mask = attention_mask.to(device)\n",
        "\n",
        "  output, y_hat = model(input_ids, attention_mask)\n",
        "\n",
        "  if(text[index] == get_text(y_truth.argmax(-1))):\n",
        "    correct = correct + 1\n",
        "\n",
        "  total = total + 1\n",
        "\n",
        "print(correct/total)"
      ],
      "execution_count": null,
      "outputs": [
        {
          "output_type": "stream",
          "text": [
            "0.029001483994064024\n"
          ],
          "name": "stdout"
        }
      ]
    },
    {
      "cell_type": "code",
      "metadata": {
        "colab": {
          "base_uri": "https://localhost:8080/"
        },
        "id": "Xhqk-yoqt59-",
        "outputId": "cfe140d2-4682-439d-df05-893868a097a9"
      },
      "source": [
        "# correct = 0\n",
        "# for x, y_truth in val_loader:\n",
        "#   x, y_truth = x.to(device), y_truth.to(device)\n",
        "#   output, y_hat = model(input_embeddings = x)\n",
        "#   correct = correct + int(torch.sum(output.argmax(-1).squeeze(0) ==  y_truth.argmax(-1)))\n",
        "\n",
        "# print(correct/len(val_loader.dataset))\n",
        "\n",
        "total = 0\n",
        "correct = 0\n",
        "for i_batch, sample in enumerate(test_loader):\n",
        "  x, y_truth = sample[0].to(device), sample[1].to(device)\n",
        " \n",
        "\n",
        "  text = get_text(y_truth.squeeze(0))\n",
        "  input_ids, attention_mask, y_truth, index = get_inputs(text)\n",
        "\n",
        "  input_ids = input_ids.to(device)\n",
        "  attention_mask = attention_mask.to(device)\n",
        "\n",
        "  output, y_hat = model(input_ids, attention_mask)\n",
        "\n",
        "  # print(\"Text: \", text, index)\n",
        "  # print(\"Label: \", text[index])\n",
        "  # print(\"Prediction: \", get_text(y_truth.argmax(-1)))\n",
        "\n",
        "  if(text[index] == get_text(y_truth.argmax(-1))):\n",
        "    correct = correct + 1\n",
        "\n",
        "  total = total + 1\n",
        "\n",
        "print(correct/total)"
      ],
      "execution_count": null,
      "outputs": [
        {
          "output_type": "stream",
          "text": [
            "0.026033495866016537\n"
          ],
          "name": "stdout"
        }
      ]
    }
  ]
}